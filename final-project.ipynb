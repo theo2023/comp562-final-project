{
 "cells": [
  {
   "cell_type": "markdown",
   "id": "722befe7",
   "metadata": {},
   "source": [
    "# Load and preprocess the data"
   ]
  },
  {
   "cell_type": "code",
   "execution_count": 1,
   "id": "ab6ed920",
   "metadata": {},
   "outputs": [
    {
     "data": {
      "image/png": "[encoded data removed]",
      "text/plain": [
       "<Figure size 432x288 with 1 Axes>"
      ]
     },
     "metadata": {},
     "output_type": "display_data"
    },
    {
     "data": {
      "image/png": "[encoded data removed]",
      "text/plain": [
       "<Figure size 432x288 with 1 Axes>"
      ]
     },
     "metadata": {},
     "output_type": "display_data"
    }
   ],
   "source": [
    "import pandas as pd\n",
    "import numpy as np\n",
    "from sklearn.preprocessing import StandardScaler\n",
    "# from sklearn.decomposition import PCA\n",
    "from imblearn.over_sampling import RandomOverSampler\n",
    "import matplotlib.pyplot as plt\n",
    "df = pd.read_csv(\"healthcare-dataset-stroke-data.csv\")\n",
    "\n",
    "df = df.dropna() # remove rows with NaN bmi\n",
    "\n",
    "# attempt to perform dimensionality reduction via PCA\n",
    "\n",
    "# # convert categorical features into numeric\n",
    "df['gender'].replace(['Male', 'Female', 'Other'], [0, 1, 2], inplace=True)\n",
    "df['ever_married'].replace(['Yes', 'No'], [1, 0], inplace=True)\n",
    "df['work_type'].replace(['children', 'Govt_job', 'Never_worked', 'Private', 'Self-employed'], [0, 1, 2, 3, 4], inplace=True)\n",
    "df['Residence_type'].replace(['Urban', 'Rural'], [1, 0], inplace=True)\n",
    "df['smoking_status'].replace(['formerly smoked', 'never smoked', 'smokes', 'Unknown'], [0, 1, 2, 3], inplace=True)\n",
    "\n",
    "# # scale features\n",
    "scaler = StandardScaler()\n",
    "num_cols = ['age', 'avg_glucose_level', 'bmi']\n",
    "df[num_cols] = scaler.fit_transform(df[num_cols])\n",
    "\n",
    "# # dimensionality reduction with PCA\n",
    "# pca = PCA(n_components=9)\n",
    "# pca.fit(df)\n",
    "# columns = ['id', 'gender', 'age', 'hypertension', 'heart_disease', 'avg_glucose_level', 'bmi', 'smoking_status', 'stroke']\n",
    "# df = pd.DataFrame(pca.transform(df), columns=columns, index=df.index)\n",
    "# print(df.shape)\n",
    "# df.head()\n",
    "\n",
    "# visualization of positive and negative samples\n",
    "plt.title(\"Positive vs. Negative Samples\")\n",
    "plt.pie(np.array(df['stroke'].value_counts()), autopct='%1.1f%%', labels=['Non Stroke', 'Stroke'])\n",
    "plt.show()\n",
    "\n",
    "# balance the dataset\n",
    "oversample = RandomOverSampler(sampling_strategy='minority')\n",
    "X = df.drop(['stroke'], axis=1)\n",
    "y = df['stroke']\n",
    "X, y = oversample.fit_resample(X, y)\n",
    "\n",
    "# visualization of positive and negative samples\n",
    "plt.title(\"Positive vs. Negative Samples\")\n",
    "plt.pie(np.array(y.value_counts()), autopct='%1.1f%%', labels=['Non Stroke', 'Stroke'])\n",
    "plt.show()"
   ]
  },
  {
   "cell_type": "markdown",
   "id": "f646ecde",
   "metadata": {},
   "source": [
    "# Split the data into training and test sets"
   ]
  },
  {
   "cell_type": "code",
   "execution_count": 2,
   "id": "32643861",
   "metadata": {},
   "outputs": [],
   "source": [
    "from sklearn.model_selection import train_test_split\n",
    "\n",
    "SEED = 7\n",
    "X_train, X_test, y_train, y_test = train_test_split(X, y ,train_size=0.7, random_state=SEED, shuffle=True, stratify=y)"
   ]
  },
  {
   "cell_type": "markdown",
   "id": "5f092922",
   "metadata": {},
   "source": [
    "# Build and train each model, and evaluate each model on the test set"
   ]
  },
  {
   "cell_type": "code",
   "execution_count": 90,
   "id": "302631b5",
   "metadata": {
    "scrolled": true
   },
   "outputs": [
    {
     "name": "stdout",
     "output_type": "stream",
     "text": [
      "0.7124113475177305\n",
      "              precision    recall  f1-score   support\n",
      "\n",
      "           0       0.76      0.62      0.68      1410\n",
      "           1       0.68      0.80      0.74      1410\n",
      "\n",
      "    accuracy                           0.71      2820\n",
      "   macro avg       0.72      0.71      0.71      2820\n",
      "weighted avg       0.72      0.71      0.71      2820\n",
      "\n",
      "0.524822695035461\n",
      "              precision    recall  f1-score   support\n",
      "\n",
      "           0       0.52      0.63      0.57      1410\n",
      "           1       0.53      0.42      0.47      1410\n",
      "\n",
      "    accuracy                           0.52      2820\n",
      "   macro avg       0.53      0.52      0.52      2820\n",
      "weighted avg       0.53      0.52      0.52      2820\n",
      "\n",
      "0.9726950354609929\n",
      "              precision    recall  f1-score   support\n",
      "\n",
      "           0       1.00      0.95      0.97      1410\n",
      "           1       0.95      1.00      0.97      1410\n",
      "\n",
      "    accuracy                           0.97      2820\n",
      "   macro avg       0.97      0.97      0.97      2820\n",
      "weighted avg       0.97      0.97      0.97      2820\n",
      "\n",
      "0.9939716312056738\n",
      "              precision    recall  f1-score   support\n",
      "\n",
      "           0       1.00      0.99      0.99      1410\n",
      "           1       0.99      1.00      0.99      1410\n",
      "\n",
      "    accuracy                           0.99      2820\n",
      "   macro avg       0.99      0.99      0.99      2820\n",
      "weighted avg       0.99      0.99      0.99      2820\n",
      "\n",
      "0.7553191489361702\n",
      "              precision    recall  f1-score   support\n",
      "\n",
      "           0       0.81      0.67      0.73      1410\n",
      "           1       0.72      0.85      0.78      1410\n",
      "\n",
      "    accuracy                           0.76      2820\n",
      "   macro avg       0.76      0.76      0.75      2820\n",
      "weighted avg       0.76      0.76      0.75      2820\n",
      "\n"
     ]
    },
    {
     "data": {
      "image/png": "[encoded data removed]",
      "text/plain": [
       "<Figure size 432x288 with 1 Axes>"
      ]
     },
     "metadata": {
      "needs_background": "light"
     },
     "output_type": "display_data"
    }
   ],
   "source": [
    "from sklearn.model_selection import cross_validate\n",
    "from sklearn.metrics import classification_report\n",
    "from sklearn.linear_model import LogisticRegression\n",
    "from sklearn.svm import SVC\n",
    "from sklearn.tree import DecisionTreeClassifier\n",
    "from sklearn.ensemble import RandomForestClassifier\n",
    "from sklearn.naive_bayes import GaussianNB\n",
    "\n",
    "NUM_FOLDS = 5\n",
    "\n",
    "# data lists\n",
    "matrix = []\n",
    "\n",
    "models = [LogisticRegression(), SVC(),  DecisionTreeClassifier(), RandomForestClassifier(), GaussianNB()]\n",
    "for model in models:\n",
    "    cross_validate(model, X_train, y_train, cv=NUM_FOLDS)\n",
    "    model.fit(X_train, y_train)\n",
    "    y_pred = model.predict(X_test)\n",
    "\n",
    "    # print metrics for each class label (confusion matrix)\n",
    "    data = classification_report(y_test, y_pred,output_dict=True)\n",
    "    print(data['accuracy'])\n",
    "    print(classification_report(y_test, y_pred))\n",
    "    \n",
    "    acc = data['accuracy']\n",
    "    listOfValues = []\n",
    "    \n",
    "    # loop through result\n",
    "    for key in data['1']:\n",
    "        if(key != 'support'):\n",
    "            listOfValues.append(data['1'][key])\n",
    "    \n",
    "    listOfValues.append(acc)\n",
    "    matrix.append(listOfValues)\n",
    "\n",
    "labels = ['precision', 'recall', 'f1 score', 'accuracy']\n",
    "X_axis = np.arange(len(labels))\n",
    "WIDTH = 0.15\n",
    "  \n",
    "plt.bar(X_axis - 0.30, matrix[0], width=WIDTH, label='Logistic')\n",
    "plt.bar(X_axis - 0.15, matrix[1], width=WIDTH, label='SVC')\n",
    "plt.bar(X_axis + 0, matrix[2], width=WIDTH, label='Decision Tree')\n",
    "plt.bar(X_axis + 0.15, matrix[3], width=WIDTH, label='Random Forest')\n",
    "plt.bar(X_axis + 0.30, matrix[4], width=WIDTH, label='Gaussian')\n",
    "\n",
    "plt.xticks(X_axis, labels)\n",
    "plt.title(\"Comparison\")\n",
    "plt.legend()\n",
    "plt.show()\n"
   ]
  }
 ],
 "metadata": {
  "kernelspec": {
   "display_name": "Python 3 (ipykernel)",
   "language": "python",
   "name": "python3"
  },
  "language_info": {
   "codemirror_mode": {
    "name": "ipython",
    "version": 3
   },
   "file_extension": ".py",
   "mimetype": "text/x-python",
   "name": "python",
   "nbconvert_exporter": "python",
   "pygments_lexer": "ipython3",
   "version": "3.9.12"
  }
 },
 "nbformat": 4,
 "nbformat_minor": 5
}
